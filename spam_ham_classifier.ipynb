{
 "cells": [
  {
   "cell_type": "markdown",
   "id": "decc58df",
   "metadata": {},
   "source": [
    "#### Réalisé par :\n",
    "\n",
    "AIT AMARA Mohamed, 181831072170\n",
    "\n",
    "BOUROUINA Rania, 181831052716\n",
    "\n",
    "CHIBANE Ilies, 181831072041\n",
    "\n",
    "HAMMAL Ayoub, 181831048403"
   ]
  },
  {
   "cell_type": "code",
   "execution_count": 1,
   "id": "b993f75a",
   "metadata": {},
   "outputs": [],
   "source": [
    "import re\n",
    "import os\n",
    "from collections import Counter\n",
    "\n",
    "import numpy as np\n",
    "\n",
    "import matplotlib.pyplot as plt\n",
    "\n",
    "import nltk\n",
    "\n",
    "import torch\n",
    "import torch.nn as nn\n",
    "from torch.utils.data import Dataset\n",
    "from torch.utils.data import DataLoader\n",
    "from torch.nn.utils.rnn import pad_sequence\n",
    "from torch.optim import Adam\n",
    "\n",
    "from sklearn.svm import SVC\n",
    "from sklearn.naive_bayes import MultinomialNB\n",
    "from sklearn.model_selection import GridSearchCV\n",
    "from sklearn.metrics import accuracy_score\n",
    "from sklearn.metrics import roc_curve"
   ]
  },
  {
   "cell_type": "markdown",
   "id": "92878fa3",
   "metadata": {},
   "source": [
    "Fixing the random seed"
   ]
  },
  {
   "cell_type": "code",
   "execution_count": 2,
   "id": "da5376d9",
   "metadata": {},
   "outputs": [],
   "source": [
    "seed = 42\n",
    "def set_seed(self, seed=42):\n",
    "    torch.backends.cudnn.deterministic = True\n",
    "    torch.backends.cudnn.benchmark = False\n",
    "    torch.manual_seed(seed)\n",
    "    np.random.seed(seed)\n",
    "set_seed(seed)"
   ]
  },
  {
   "cell_type": "markdown",
   "id": "4e9374b6",
   "metadata": {},
   "source": [
    "## Data preparation"
   ]
  },
  {
   "cell_type": "markdown",
   "id": "2e532d56",
   "metadata": {},
   "source": [
    "Some files are in latin-1 encoding so we are converting them to utf-8"
   ]
  },
  {
   "cell_type": "code",
   "execution_count": 3,
   "id": "318aab08",
   "metadata": {},
   "outputs": [],
   "source": [
    "for filename in os.listdir(os.path.abspath(\"data/spam\")):\n",
    "    try:\n",
    "        with open(os.path.join(\"data/spam\", filename), \"r\", encoding=\"utf-8\") as file:\n",
    "            content = file.read()\n",
    "    except UnicodeDecodeError:\n",
    "        with open(os.path.join(\"data/spam\", filename), \"r\", encoding=\"latin-1\") as file:\n",
    "            content = file.read()\n",
    "        with open(os.path.join(\"data/spam\", filename), \"w\", encoding=\"utf-8\") as file:\n",
    "            file.write(content)\n",
    "for filename in os.listdir(os.path.abspath(\"data/ham\")):\n",
    "    try:\n",
    "        with open(os.path.join(\"data/ham\", filename), \"r\", encoding=\"utf-8\") as file:\n",
    "            content = file.read()\n",
    "    except UnicodeDecodeError:\n",
    "        with open(os.path.join(\"data/ham\", filename), \"r\", encoding=\"latin-1\") as file:\n",
    "            content = file.read()\n",
    "        with open(os.path.join(\"data/ham\", filename), \"w\", encoding=\"utf-8\") as file:\n",
    "            file.write(content)"
   ]
  },
  {
   "cell_type": "markdown",
   "id": "d9810d09",
   "metadata": {},
   "source": [
    "The preprocessing function that handles tokenization and stemming"
   ]
  },
  {
   "cell_type": "code",
   "execution_count": 4,
   "id": "94b7928b",
   "metadata": {
    "scrolled": true
   },
   "outputs": [],
   "source": [
    "def preprocessing(file):\n",
    "    file.seek(0)\n",
    "    \n",
    "    # strip metadata\n",
    "    while file.readline() != '\\n':\n",
    "        pass\n",
    "    \n",
    "    # lower case\n",
    "    mail = file.read().lower()\n",
    "    \n",
    "    # html\n",
    "    mail = re.sub('<[^<>]+>', ' ', mail)\n",
    "    \n",
    "    # dollars\n",
    "    mail = mail.replace('$', \" dollar \")\n",
    "    \n",
    "    # urls\n",
    "    mail = re.sub(r'(https?:\\/\\/)(\\s)*(www\\.)?(\\s)*((\\w|\\s)+\\.)*([\\w\\-\\s]+\\/)*([\\w\\-]+)((\\?)?[\\w\\s]*=\\s*[\\w\\%&]*)*', \n",
    "                  \"httpaddr\",\n",
    "                  mail)\n",
    "    \n",
    "    # emails\n",
    "    mail = re.sub(r'\\b[A-Za-z0-9._%+-]+@[A-Za-z0-9.-]+\\.[A-Z|a-z]{2,}\\b', \"emailaddr\", mail)\n",
    "    \n",
    "    # numbers\n",
    "    mail = re.sub(r'\\d+', \"number\", mail)\n",
    "    \n",
    "    # tokenize\n",
    "    tokenizer = nltk.tokenize.TreebankWordTokenizer()\n",
    "    tokens = tokenizer.tokenize(mail)\n",
    "    \n",
    "    # stemming\n",
    "    stemmer = nltk.stem.snowball.SnowballStemmer(\"english\")\n",
    "    tokens = [stemmer.stem(token) for token in tokens if token.isalpha()]\n",
    "    \n",
    "    return tokens"
   ]
  },
  {
   "cell_type": "markdown",
   "id": "0a6db5f9",
   "metadata": {},
   "source": [
    "The creation of a vocabulary : we go through all the files and collect the different tokens"
   ]
  },
  {
   "cell_type": "code",
   "execution_count": 5,
   "id": "9463fb8f",
   "metadata": {
    "scrolled": true
   },
   "outputs": [
    {
     "name": "stdout",
     "output_type": "stream",
     "text": [
      "There are 586079 tokens in the raw vocabulary\n"
     ]
    }
   ],
   "source": [
    "raw_vocab = []\n",
    "for filename in os.listdir(os.path.abspath(\"data/spam\")):\n",
    "    with open(os.path.join(\"data/spam\", filename), \"r\", encoding=\"utf-8\") as file_content:\n",
    "        tokens = preprocessing(file_content)\n",
    "        raw_vocab += tokens\n",
    "for filename in os.listdir(os.path.abspath(\"data/ham\")):\n",
    "    with open(os.path.join(\"data/ham\", filename), \"r\", encoding=\"utf-8\") as file_content:\n",
    "        tokens = preprocessing(file_content)\n",
    "        raw_vocab += tokens\n",
    "\n",
    "nltk.download('stopwords', quiet=True)\n",
    "stopwords = nltk.corpus.stopwords.words('english')\n",
    "raw_vocab = [x for x in raw_vocab if x not in stopwords]\n",
    "print(\"There are\", len(raw_vocab), \"tokens in the raw vocabulary\")"
   ]
  },
  {
   "cell_type": "markdown",
   "id": "497b384f",
   "metadata": {},
   "source": [
    "Removing the less frequent words, and keeping only the 5 000 most frequent words"
   ]
  },
  {
   "cell_type": "code",
   "execution_count": 6,
   "id": "20389854",
   "metadata": {
    "scrolled": false
   },
   "outputs": [
    {
     "name": "stdout",
     "output_type": "stream",
     "text": [
      "There are 5000 different tokens after cleaning\n"
     ]
    }
   ],
   "source": [
    "vocabulary_size = 5000\n",
    "bag_of_words = Counter(raw_vocab)\n",
    "vocab = [x[0] for x in bag_of_words.most_common(vocabulary_size)]\n",
    "print(\"There are\", len(vocab), \"different tokens after cleaning\")"
   ]
  },
  {
   "cell_type": "markdown",
   "id": "acb72726",
   "metadata": {},
   "source": [
    "We map each token to an integer from 1 to 5000, whereas 0 represent a pading token"
   ]
  },
  {
   "cell_type": "code",
   "execution_count": 7,
   "id": "951edce1",
   "metadata": {},
   "outputs": [],
   "source": [
    "word_to_index = {}\n",
    "index_to_word = {}\n",
    "for index, word in enumerate(vocab):\n",
    "    word_to_index[word] = index + 1\n",
    "    index_to_word[index + 1] = word"
   ]
  },
  {
   "cell_type": "markdown",
   "id": "4017848f",
   "metadata": {},
   "source": [
    "Transforms a list of tokens to a list of integers"
   ]
  },
  {
   "cell_type": "code",
   "execution_count": 8,
   "id": "8f5b478f",
   "metadata": {},
   "outputs": [],
   "source": [
    "def encoding_tokens(tokens):\n",
    "    return [word_to_index.get(word, 0) for word in tokens if word in word_to_index]"
   ]
  },
  {
   "cell_type": "code",
   "execution_count": 9,
   "id": "01f5dc5f",
   "metadata": {},
   "outputs": [],
   "source": [
    "def transform(file):\n",
    "    tokens = preprocessing(file)\n",
    "    encoded_tokens = encoding_tokens(tokens)\n",
    "    return encoded_tokens"
   ]
  },
  {
   "cell_type": "markdown",
   "id": "bfd7a692",
   "metadata": {},
   "source": [
    "The creation of a dataset class that load the files and handle the transformation.\n",
    "\n",
    "Loading files can be done on demande, but since we have few data and models with no heavy computations, loading data on the fly would bottle neck the training, so we preload all the data at once."
   ]
  },
  {
   "cell_type": "code",
   "execution_count": 10,
   "id": "b8953e29",
   "metadata": {},
   "outputs": [],
   "source": [
    "class MailDataset(Dataset):\n",
    "    def __init__(self, \n",
    "            pos_files,\n",
    "            neg_files,\n",
    "            transform=transform,\n",
    "            positive_class_dir=\"data/spam\",\n",
    "            negative_class_dir=\"data/ham\"):\n",
    "        \n",
    "        self.positive_class_dir = positive_class_dir\n",
    "        self.negative_class_dir = negative_class_dir\n",
    "        \n",
    "        self.pos_files = pos_files\n",
    "        self.neg_files = neg_files\n",
    "        \n",
    "        self.transform = transform\n",
    "        \n",
    "        self.mails = []\n",
    "        for file in self.pos_files:\n",
    "            mail_path = os.path.join(self.positive_class_dir, file)\n",
    "            label = 1\n",
    "            with open(mail_path, \"r\", encoding=\"utf-8\") as file:\n",
    "                mail = [0] + transform(file)\n",
    "            self.mails.append((mail, label))\n",
    "        for file in self.neg_files:\n",
    "            mail_path = os.path.join(self.negative_class_dir, file)\n",
    "            label = 0\n",
    "            with open(mail_path, \"r\", encoding=\"utf-8\") as file:\n",
    "                mail = [0] + transform(file)\n",
    "            self.mails.append((mail, label))\n",
    "        \n",
    "    def __len__(self):\n",
    "        return len(self.mails)\n",
    "    \n",
    "    def __getitem__(self, idx):\n",
    "        mail, label = self.mails[idx]\n",
    "        return torch.unsqueeze(torch.as_tensor(mail), dim=-1).float(), torch.as_tensor(label).float()"
   ]
  },
  {
   "cell_type": "markdown",
   "id": "2c2bc7c5",
   "metadata": {},
   "source": [
    "Creating test and train sets by randomly splitting files from both spam and ham folder and assigning them to either test or train set."
   ]
  },
  {
   "cell_type": "code",
   "execution_count": 11,
   "id": "8749d7b4",
   "metadata": {},
   "outputs": [],
   "source": [
    "def create_train_test_dataset(\n",
    "        test_ratio=0.3,\n",
    "        positive_class_dir=\"data/spam\",\n",
    "        negative_class_dir=\"data/ham\"):\n",
    "    \n",
    "    pos_files = os.listdir(os.path.abspath(positive_class_dir))\n",
    "    neg_files = os.listdir(os.path.abspath(negative_class_dir))\n",
    "    \n",
    "    shuffled_pos_indices = np.random.permutation(len(pos_files))\n",
    "    shuffled_neg_indices = np.random.permutation(len(neg_files))\n",
    "\n",
    "    pos_test_set_size = int(len(pos_files) * test_ratio)\n",
    "    neg_test_set_size = int(len(neg_files) * test_ratio)\n",
    "    \n",
    "    pos_train_indices = shuffled_pos_indices[pos_test_set_size:]\n",
    "    pos_test_indices = shuffled_pos_indices[:pos_test_set_size]\n",
    "    \n",
    "    neg_train_indices = shuffled_neg_indices[neg_test_set_size:]\n",
    "    neg_test_indices = shuffled_neg_indices[:neg_test_set_size]\n",
    "    \n",
    "    pos_train_files = [pos_files[i] for i in pos_train_indices]\n",
    "    neg_train_files = [neg_files[i] for i in neg_train_indices]\n",
    "    \n",
    "    pos_test_files = [pos_files[i] for i in pos_test_indices]\n",
    "    neg_test_files = [neg_files[i] for i in neg_test_indices]\n",
    "    \n",
    "    train_dataset = MailDataset(pos_train_files, neg_train_files)\n",
    "    test_dataset = MailDataset(pos_test_files, neg_test_files)\n",
    "    \n",
    "    return train_dataset, test_dataset"
   ]
  },
  {
   "cell_type": "markdown",
   "id": "91ded874",
   "metadata": {},
   "source": [
    "Collate functions are used with pytorch dataloader to make batches uniform"
   ]
  },
  {
   "cell_type": "code",
   "execution_count": 12,
   "id": "7188d3ee",
   "metadata": {},
   "outputs": [],
   "source": [
    "def pad_collate(batch):\n",
    "    X = [item[0] for item in batch]\n",
    "    y = [item[1] for item in batch]\n",
    "    X_pad = pad_sequence(X, batch_first=True)\n",
    "    return X_pad, torch.as_tensor(y).view(-1, 1)"
   ]
  },
  {
   "cell_type": "code",
   "execution_count": 13,
   "id": "a36a9371",
   "metadata": {},
   "outputs": [],
   "source": [
    "def bin_bow_collate(batch):\n",
    "    X = [item[0] for item in batch]\n",
    "    y = [item[1] for item in batch]\n",
    "    \n",
    "    bow = torch.zeros((len(X), vocabulary_size))\n",
    "    \n",
    "    for i, email in enumerate(X):\n",
    "        for word_index in email:\n",
    "            if (word_index.int().item() > 0):\n",
    "                bow[i, word_index.int().item() - 1] = 1\n",
    "    return bow, torch.as_tensor(y).view(-1, 1)"
   ]
  },
  {
   "cell_type": "code",
   "execution_count": 14,
   "id": "2efda9e7",
   "metadata": {},
   "outputs": [],
   "source": [
    "def bow_collate(batch):\n",
    "    X = [item[0] for item in batch]\n",
    "    y = [item[1] for item in batch]\n",
    "    \n",
    "    bow = torch.zeros((len(X), vocabulary_size))\n",
    "    \n",
    "    for i, email in enumerate(X):\n",
    "        for word_index in email:\n",
    "            if (word_index.int().item() > 0):\n",
    "                bow[i, word_index.int().item() - 1] += 1\n",
    "    return bow, torch.as_tensor(y).view(-1, 1)"
   ]
  },
  {
   "cell_type": "markdown",
   "id": "d0fa23a6",
   "metadata": {},
   "source": [
    "## Model selection"
   ]
  },
  {
   "cell_type": "code",
   "execution_count": 15,
   "id": "541bc227",
   "metadata": {
    "scrolled": false
   },
   "outputs": [],
   "source": [
    "train_dataset, test_dataset = create_train_test_dataset()"
   ]
  },
  {
   "cell_type": "markdown",
   "id": "fbd4b0be",
   "metadata": {},
   "source": [
    "Visuatlization of the words of the training dataset"
   ]
  },
  {
   "cell_type": "code",
   "execution_count": 16,
   "id": "25c798c9",
   "metadata": {},
   "outputs": [
    {
     "data": {
      "text/plain": [
       "Text(0.5, 1.0, 'difference histogram')"
      ]
     },
     "execution_count": 16,
     "metadata": {},
     "output_type": "execute_result"
    },
    {
     "data": {
      "image/png": "[encoded data removed]",
      "text/plain": [
       "<Figure size 1728x1080 with 4 Axes>"
      ]
     },
     "metadata": {
      "needs_background": "light"
     },
     "output_type": "display_data"
    }
   ],
   "source": [
    "# plotting words histogram on logarithmic scale\n",
    "hist = np.zeros((vocabulary_size,))\n",
    "pos_hist = np.zeros((vocabulary_size,))\n",
    "neg_hist = np.zeros((vocabulary_size,))\n",
    "for x, y in train_dataset:\n",
    "    for word in x:\n",
    "        hist[int(word.item()) - 1] += 1\n",
    "        if y == 0:\n",
    "            neg_hist[int(word.item()) - 1] += 1\n",
    "        else:\n",
    "            pos_hist[int(word.item()) - 1] += 1\n",
    "\n",
    "plt.figure(figsize=(24, 15))\n",
    "\n",
    "\n",
    "plt.subplot(2, 2, 1)\n",
    "plt.bar(list(range(vocabulary_size)), pos_hist)\n",
    "plt.yscale('log')\n",
    "plt.title(\"positive class histogram\")\n",
    "\n",
    "plt.subplot(2, 2, 2)\n",
    "plt.bar(list(range(vocabulary_size)), neg_hist)\n",
    "plt.yscale('log')\n",
    "plt.title(\"negative class histogram\")\n",
    "\n",
    "plt.subplot(2, 2, 3)\n",
    "plt.bar(list(range(vocabulary_size)), hist)\n",
    "plt.yscale('log')\n",
    "plt.title(\"global histogram\")\n",
    "\n",
    "plt.subplot(2, 2, 4)\n",
    "plt.bar(list(range(vocabulary_size)), pos_hist - neg_hist)\n",
    "plt.yscale(\"symlog\")\n",
    "plt.title(\"difference histogram\")"
   ]
  },
  {
   "cell_type": "markdown",
   "id": "9df26780",
   "metadata": {},
   "source": [
    "We observe from the last plot that there is clear contrast between the two classes"
   ]
  },
  {
   "cell_type": "markdown",
   "id": "58bc7b58",
   "metadata": {},
   "source": [
    "### Deep model"
   ]
  },
  {
   "cell_type": "markdown",
   "id": "084bb270",
   "metadata": {},
   "source": [
    "#### LSTM"
   ]
  },
  {
   "cell_type": "markdown",
   "id": "3ffcf8bf",
   "metadata": {},
   "source": [
    "The following wrapper class allow us to encapsulate training logic and loss tracking"
   ]
  },
  {
   "cell_type": "code",
   "execution_count": 17,
   "id": "90e61f9d",
   "metadata": {},
   "outputs": [],
   "source": [
    "class Wrapper:\n",
    "    def __init__(self, model, loss_fn, optimizer):\n",
    "        self.model = model\n",
    "        self.loss_fn = loss_fn\n",
    "        self.optimizer = optimizer\n",
    "        self.device = 'cuda' if torch.cuda.is_available() else 'cpu'\n",
    "        \n",
    "        self.model.to(self.device)\n",
    "        \n",
    "        self.train_loader = None\n",
    "        self.val_loader = None\n",
    "        \n",
    "        self.losses = []\n",
    "        self.val_losses = []\n",
    "        self.total_epochs = 0\n",
    "        \n",
    "        self.best_loss = np.Inf\n",
    "        self.best_state_dict = None\n",
    "        self.best_loss_epoch = 0\n",
    "\n",
    "    def set_loaders(self, train_loader, val_loader=None):\n",
    "        self.train_loader = train_loader\n",
    "        self.val_loader = val_loader\n",
    "        \n",
    "    def train_step(self, X, y):\n",
    "        self.model.train()\n",
    "        \n",
    "        yhat = self.model(X)\n",
    "        \n",
    "        loss = self.loss_fn(yhat, y)\n",
    "        loss.backward()\n",
    "        \n",
    "        self.optimizer.step()\n",
    "        self.optimizer.zero_grad()\n",
    "        \n",
    "        return loss.item()\n",
    "    \n",
    "    def val_step(self, X, y):\n",
    "        self.model.eval()\n",
    "        \n",
    "        yhat = self.model(X)\n",
    "        \n",
    "        loss = self.loss_fn(yhat, y)\n",
    "        \n",
    "        return loss.item()\n",
    "    \n",
    "    def _mini_batch(self, validation=False):\n",
    "        if validation:\n",
    "            data_loader = self.val_loader\n",
    "            step = self.val_step\n",
    "        else:\n",
    "            data_loader = self.train_loader\n",
    "            step = self.train_step\n",
    "            \n",
    "        if data_loader is None:\n",
    "            return None\n",
    "        \n",
    "        mini_batch_losses = []\n",
    "        for x_batch, y_batch in data_loader:\n",
    "            x_batch = x_batch.to(self.device)\n",
    "            y_batch = y_batch.to(self.device)\n",
    " \n",
    "            mini_batch_loss = step(x_batch, y_batch)\n",
    "            mini_batch_losses.append(mini_batch_loss)\n",
    " \n",
    "        loss = np.mean(mini_batch_losses)\n",
    "    \n",
    "        return loss\n",
    "    \n",
    "    def train(self, n_epochs):\n",
    "        for epoch in range(n_epochs):\n",
    "    \n",
    "            self.total_epochs += 1\n",
    "\n",
    "            loss = self._mini_batch(validation=False)\n",
    "            self.losses.append(loss)\n",
    "\n",
    "            with torch.no_grad():\n",
    "\n",
    "                val_loss = self._mini_batch(validation=True)\n",
    "                self.val_losses.append(val_loss)\n",
    "    \n",
    "            scalars = {'training': loss}\n",
    "            if val_loss is not None:\n",
    "                scalars.update({'validation': val_loss})\n",
    "            \n",
    "            print(\"epoch: {0} | training loss: {1:.2f} | validation loss: {2:.2f}\"\n",
    "                  .format(epoch, scalars[\"training\"], scalars[\"validation\"]))\n",
    "            \n",
    "            if val_loss < self.best_loss:\n",
    "                self.best_loss = val_loss\n",
    "                self.best_state_dict = self.model.state_dict()\n",
    "                self.best_loss_epoch = epoch\n",
    "        \n",
    "        self.model.load_state_dict(self.best_state_dict)\n",
    "                \n",
    "    def predict(self, x):\n",
    "        self.model.eval()\n",
    "        with torch.no_grad():\n",
    "            y_hat_tensor = torch.sigmoid(self.model(x.to(self.device)))\n",
    "        self.model.train()\n",
    "        return y_hat_tensor.detach().cpu().numpy()\n",
    "\n",
    "    def plot_losses(self):\n",
    "        fig = plt.figure(figsize=(10, 4))\n",
    "        ymin = min(min(self.losses), min(self.val_losses))\n",
    "        ymax = max(max(self.losses), max(self.val_losses))\n",
    "        plt.vlines(self.best_loss_epoch, ymin=ymin, ymax=ymax, colors='g', linestyles='--', label='Best loss')\n",
    "        plt.plot(self.losses, label='Training Loss', c='b')\n",
    "        if self.val_loader:\n",
    "            plt.plot(self.val_losses, label='Validation Loss', c='r')\n",
    "        plt.yscale('log')\n",
    "        plt.xlabel('Epochs')\n",
    "        plt.ylabel('Loss')\n",
    "        plt.legend()\n",
    "        plt.tight_layout()"
   ]
  },
  {
   "cell_type": "code",
   "execution_count": 18,
   "id": "716faf07",
   "metadata": {},
   "outputs": [],
   "source": [
    "class LSTMModel(nn.Module):\n",
    "    def __init__(self, n_features, hidden_dim, n_outputs):\n",
    "        super(LSTMModel, self).__init__()\n",
    "        self.hidden_dim = hidden_dim\n",
    "        self.n_features = n_features\n",
    "        self.n_outputs = n_outputs\n",
    "        self.hidden = None\n",
    "        self.cell = None\n",
    "        self.rnn = nn.LSTM(self.n_features,\n",
    "                                 self.hidden_dim,\n",
    "                                 batch_first=True)\n",
    "        self.classifier = nn.Linear(self.hidden_dim, self.n_outputs)\n",
    "\n",
    "    def forward(self, X):\n",
    "        batch_first_output, (self.hidden, self.cell) = \\\n",
    "                                            self.rnn(X)\n",
    "        last_output = batch_first_output[:, -1]\n",
    "        out = self.classifier(last_output)\n",
    "        return out.view(-1, self.n_outputs)"
   ]
  },
  {
   "cell_type": "code",
   "execution_count": 19,
   "id": "1742fcbb",
   "metadata": {},
   "outputs": [],
   "source": [
    "train_dataloader = DataLoader(train_dataset, batch_size=16, shuffle=True, collate_fn=pad_collate)\n",
    "test_dataloader = DataLoader(test_dataset, batch_size=16, shuffle=True, collate_fn=pad_collate)\n",
    "\n",
    "lstm_model = LSTMModel(n_features=1, hidden_dim=128, n_outputs=1)\n",
    "optimizer = Adam(lstm_model.parameters())\n",
    "loss_fn = nn.BCEWithLogitsLoss(reduction='mean')\n",
    "\n",
    "lstm_wrapper = Wrapper(lstm_model, loss_fn, optimizer)"
   ]
  },
  {
   "cell_type": "code",
   "execution_count": 20,
   "id": "6549a101",
   "metadata": {
    "scrolled": false
   },
   "outputs": [
    {
     "name": "stdout",
     "output_type": "stream",
     "text": [
      "epoch: 0 | training loss: 0.69 | validation loss: 0.68\n",
      "epoch: 1 | training loss: 0.69 | validation loss: 0.69\n",
      "epoch: 2 | training loss: 0.69 | validation loss: 0.69\n",
      "epoch: 3 | training loss: 0.69 | validation loss: 0.68\n",
      "epoch: 4 | training loss: 0.69 | validation loss: 0.68\n",
      "epoch: 5 | training loss: 0.69 | validation loss: 0.69\n",
      "epoch: 6 | training loss: 0.69 | validation loss: 0.68\n",
      "epoch: 7 | training loss: 0.68 | validation loss: 0.68\n",
      "epoch: 8 | training loss: 0.68 | validation loss: 0.69\n",
      "epoch: 9 | training loss: 0.68 | validation loss: 0.70\n",
      "epoch: 10 | training loss: 0.68 | validation loss: 0.68\n",
      "epoch: 11 | training loss: 0.68 | validation loss: 0.69\n",
      "epoch: 12 | training loss: 0.68 | validation loss: 0.67\n",
      "epoch: 13 | training loss: 0.68 | validation loss: 0.67\n",
      "epoch: 14 | training loss: 0.68 | validation loss: 0.68\n",
      "epoch: 15 | training loss: 0.67 | validation loss: 0.67\n",
      "epoch: 16 | training loss: 0.67 | validation loss: 0.68\n",
      "epoch: 17 | training loss: 0.67 | validation loss: 0.70\n",
      "epoch: 18 | training loss: 0.67 | validation loss: 0.68\n",
      "epoch: 19 | training loss: 0.67 | validation loss: 0.66\n",
      "epoch: 20 | training loss: 0.67 | validation loss: 0.66\n",
      "epoch: 21 | training loss: 0.66 | validation loss: 0.67\n",
      "epoch: 22 | training loss: 0.67 | validation loss: 0.67\n",
      "epoch: 23 | training loss: 0.67 | validation loss: 0.68\n",
      "epoch: 24 | training loss: 0.66 | validation loss: 0.67\n",
      "epoch: 25 | training loss: 0.67 | validation loss: 0.68\n",
      "epoch: 26 | training loss: 0.67 | validation loss: 0.67\n",
      "epoch: 27 | training loss: 0.66 | validation loss: 0.67\n",
      "epoch: 28 | training loss: 0.66 | validation loss: 0.72\n",
      "epoch: 29 | training loss: 0.66 | validation loss: 0.66\n",
      "epoch: 30 | training loss: 0.66 | validation loss: 0.66\n",
      "epoch: 31 | training loss: 0.66 | validation loss: 0.68\n",
      "epoch: 32 | training loss: 0.66 | validation loss: 0.66\n",
      "epoch: 33 | training loss: 0.66 | validation loss: 0.63\n",
      "epoch: 34 | training loss: 0.63 | validation loss: 0.60\n",
      "epoch: 35 | training loss: 0.56 | validation loss: 0.59\n",
      "epoch: 36 | training loss: 0.55 | validation loss: 0.60\n",
      "epoch: 37 | training loss: 0.56 | validation loss: 0.69\n",
      "epoch: 38 | training loss: 0.68 | validation loss: 0.66\n",
      "epoch: 39 | training loss: 0.60 | validation loss: 0.59\n",
      "epoch: 40 | training loss: 0.51 | validation loss: 0.49\n",
      "epoch: 41 | training loss: 0.48 | validation loss: 0.49\n",
      "epoch: 42 | training loss: 0.49 | validation loss: 0.54\n",
      "epoch: 43 | training loss: 0.45 | validation loss: 0.48\n",
      "epoch: 44 | training loss: 0.53 | validation loss: 0.55\n",
      "epoch: 45 | training loss: 0.54 | validation loss: 0.59\n",
      "epoch: 46 | training loss: 0.62 | validation loss: 0.56\n",
      "epoch: 47 | training loss: 0.54 | validation loss: 0.55\n",
      "epoch: 48 | training loss: 0.56 | validation loss: 0.58\n",
      "epoch: 49 | training loss: 0.55 | validation loss: 0.55\n",
      "epoch: 50 | training loss: 0.46 | validation loss: 0.49\n",
      "epoch: 51 | training loss: 0.46 | validation loss: 0.47\n",
      "epoch: 52 | training loss: 0.43 | validation loss: 0.43\n",
      "epoch: 53 | training loss: 0.41 | validation loss: 0.44\n",
      "epoch: 54 | training loss: 0.40 | validation loss: 0.45\n",
      "epoch: 55 | training loss: 0.40 | validation loss: 0.45\n",
      "epoch: 56 | training loss: 0.39 | validation loss: 0.49\n",
      "epoch: 57 | training loss: 0.39 | validation loss: 0.42\n",
      "epoch: 58 | training loss: 0.34 | validation loss: 0.40\n",
      "epoch: 59 | training loss: 0.32 | validation loss: 0.43\n",
      "epoch: 60 | training loss: 0.31 | validation loss: 0.37\n",
      "epoch: 61 | training loss: 0.29 | validation loss: 0.44\n",
      "epoch: 62 | training loss: 0.29 | validation loss: 0.41\n",
      "epoch: 63 | training loss: 0.28 | validation loss: 0.36\n",
      "epoch: 64 | training loss: 0.27 | validation loss: 0.38\n",
      "epoch: 65 | training loss: 0.26 | validation loss: 0.40\n",
      "epoch: 66 | training loss: 0.26 | validation loss: 0.37\n",
      "epoch: 67 | training loss: 0.25 | validation loss: 0.36\n",
      "epoch: 68 | training loss: 0.25 | validation loss: 0.37\n",
      "epoch: 69 | training loss: 0.24 | validation loss: 0.35\n",
      "epoch: 70 | training loss: 0.23 | validation loss: 0.35\n",
      "epoch: 71 | training loss: 0.22 | validation loss: 0.33\n",
      "epoch: 72 | training loss: 0.36 | validation loss: 0.43\n",
      "epoch: 73 | training loss: 0.28 | validation loss: 0.35\n",
      "epoch: 74 | training loss: 0.25 | validation loss: 0.35\n",
      "epoch: 75 | training loss: 0.25 | validation loss: 0.37\n",
      "epoch: 76 | training loss: 0.23 | validation loss: 0.37\n",
      "epoch: 77 | training loss: 0.22 | validation loss: 0.37\n",
      "epoch: 78 | training loss: 0.22 | validation loss: 0.37\n",
      "epoch: 79 | training loss: 0.21 | validation loss: 0.34\n",
      "epoch: 80 | training loss: 0.19 | validation loss: 0.38\n",
      "epoch: 81 | training loss: 0.20 | validation loss: 0.32\n",
      "epoch: 82 | training loss: 0.20 | validation loss: 0.31\n",
      "epoch: 83 | training loss: 0.19 | validation loss: 0.31\n",
      "epoch: 84 | training loss: 0.19 | validation loss: 0.32\n",
      "epoch: 85 | training loss: 0.20 | validation loss: 0.36\n",
      "epoch: 86 | training loss: 0.17 | validation loss: 0.32\n",
      "epoch: 87 | training loss: 0.17 | validation loss: 0.30\n",
      "epoch: 88 | training loss: 0.17 | validation loss: 0.32\n",
      "epoch: 89 | training loss: 0.18 | validation loss: 0.33\n",
      "epoch: 90 | training loss: 0.17 | validation loss: 0.31\n",
      "epoch: 91 | training loss: 0.17 | validation loss: 0.31\n",
      "epoch: 92 | training loss: 0.15 | validation loss: 0.34\n",
      "epoch: 93 | training loss: 0.17 | validation loss: 0.31\n",
      "epoch: 94 | training loss: 0.16 | validation loss: 0.36\n",
      "epoch: 95 | training loss: 0.15 | validation loss: 0.35\n",
      "epoch: 96 | training loss: 0.16 | validation loss: 0.35\n",
      "epoch: 97 | training loss: 0.15 | validation loss: 0.33\n",
      "epoch: 98 | training loss: 0.13 | validation loss: 0.33\n",
      "epoch: 99 | training loss: 0.14 | validation loss: 0.35\n"
     ]
    },
    {
     "data": {
      "image/png": "[encoded data removed]",
      "text/plain": [
       "<Figure size 720x288 with 1 Axes>"
      ]
     },
     "metadata": {
      "needs_background": "light"
     },
     "output_type": "display_data"
    }
   ],
   "source": [
    "lstm_wrapper.set_loaders(train_dataloader, test_dataloader)\n",
    "lstm_wrapper.train(n_epochs=100)\n",
    "lstm_wrapper.plot_losses()"
   ]
  },
  {
   "cell_type": "code",
   "execution_count": 21,
   "id": "8e1b6112",
   "metadata": {
    "scrolled": true
   },
   "outputs": [
    {
     "name": "stdout",
     "output_type": "stream",
     "text": [
      "threshold is 0.2300172597169876 | accuracy is 83.13%\n"
     ]
    },
    {
     "data": {
      "text/plain": [
       "Text(0.5, 0, 'False positive rate')"
      ]
     },
     "execution_count": 21,
     "metadata": {},
     "output_type": "execute_result"
    },
    {
     "data": {
      "image/png": "[encoded data removed]",
      "text/plain": [
       "<Figure size 432x288 with 1 Axes>"
      ]
     },
     "metadata": {
      "needs_background": "light"
     },
     "output_type": "display_data"
    }
   ],
   "source": [
    "test_full = [(x[0], x[1].item()) for x in test_dataset]\n",
    "\n",
    "test_prediction_scores, test_y = zip(*[(lstm_wrapper.predict(torch.unsqueeze(x, dim=0)).item(), y) \\\n",
    "                                       for x, y in list(test_full) if x.shape[0] > 0])\n",
    "\n",
    "\n",
    "fpr, tpr, thresholds = roc_curve(test_y, test_prediction_scores)\n",
    "\n",
    "gmeans = np.sqrt(tpr * (1-fpr))\n",
    "ix = np.argmax(gmeans)\n",
    "threshold = thresholds[ix]\n",
    "test_prediction = np.asarray([ 1 if x > threshold else 0 for x in test_prediction_scores])\n",
    "print(\"threshold is {0} | accuracy is {1:.2f}%\"\n",
    "      .format(threshold, (test_prediction==np.asarray(test_y)).mean() * 100))\n",
    "\n",
    "plt.plot(fpr, tpr, linewidth=2)\n",
    "plt.plot([0, 1], [0, 1], 'k--')\n",
    "plt.ylabel(\"True positive rate (recall)\")\n",
    "plt.xlabel(\"False positive rate\")"
   ]
  },
  {
   "cell_type": "markdown",
   "id": "67037b5d",
   "metadata": {},
   "source": [
    "#### Linear"
   ]
  },
  {
   "cell_type": "code",
   "execution_count": 22,
   "id": "c010399a",
   "metadata": {},
   "outputs": [],
   "source": [
    "class LinearModel(nn.Module):\n",
    "    def __init__(self, n_features, n_outputs):\n",
    "        super(LinearModel, self).__init__()\n",
    "        self.n_features = n_features\n",
    "        self.n_outputs = n_outputs\n",
    "        \n",
    "        self.linear1 = nn.Linear(self.n_features, 128, bias=False)\n",
    "        self.batchnorm1 = nn.BatchNorm1d(128)\n",
    "        \n",
    "        self.linear2 = nn.Linear(128, 64, bias=False)\n",
    "        self.batchnorm2 = nn.BatchNorm1d(64)\n",
    "        \n",
    "        self.linear3 = nn.Linear(64, self.n_outputs)\n",
    "        \n",
    "    def forward(self, X):\n",
    "        out = self.linear1(X)\n",
    "        out = self.batchnorm1(out)\n",
    "        out = nn.functional.relu(out)\n",
    "        \n",
    "        out = self.linear2(out)\n",
    "        out = self.batchnorm2(out)\n",
    "        out = nn.functional.relu(out)\n",
    "        \n",
    "        out = self.linear3(out)\n",
    "        \n",
    "        return out.view(-1, self.n_outputs)"
   ]
  },
  {
   "cell_type": "code",
   "execution_count": 23,
   "id": "78c60b6f",
   "metadata": {},
   "outputs": [],
   "source": [
    "bin_bow_train_dataloader = DataLoader(train_dataset, batch_size=16, shuffle=True, collate_fn=bin_bow_collate)\n",
    "bin_bow_test_dataloader = DataLoader(test_dataset, batch_size=16, shuffle=True, collate_fn=bin_bow_collate)\n",
    "\n",
    "bin_linear_model = LinearModel(n_features=vocabulary_size, n_outputs=1)\n",
    "optimizer = Adam(bin_linear_model.parameters())\n",
    "loss_fn = nn.BCEWithLogitsLoss(reduction='mean')\n",
    "\n",
    "bin_linear_wrapper = Wrapper(bin_linear_model, loss_fn, optimizer)"
   ]
  },
  {
   "cell_type": "code",
   "execution_count": 24,
   "id": "fa7d90e5",
   "metadata": {
    "scrolled": false
   },
   "outputs": [
    {
     "name": "stdout",
     "output_type": "stream",
     "text": [
      "epoch: 0 | training loss: 0.21 | validation loss: 0.12\n",
      "epoch: 1 | training loss: 0.07 | validation loss: 0.10\n",
      "epoch: 2 | training loss: 0.06 | validation loss: 0.09\n",
      "epoch: 3 | training loss: 0.04 | validation loss: 0.08\n",
      "epoch: 4 | training loss: 0.04 | validation loss: 0.10\n",
      "epoch: 5 | training loss: 0.05 | validation loss: 0.09\n",
      "epoch: 6 | training loss: 0.05 | validation loss: 0.08\n",
      "epoch: 7 | training loss: 0.03 | validation loss: 0.09\n",
      "epoch: 8 | training loss: 0.02 | validation loss: 0.09\n",
      "epoch: 9 | training loss: 0.03 | validation loss: 0.10\n",
      "epoch: 10 | training loss: 0.03 | validation loss: 0.11\n",
      "epoch: 11 | training loss: 0.02 | validation loss: 0.10\n",
      "epoch: 12 | training loss: 0.02 | validation loss: 0.09\n",
      "epoch: 13 | training loss: 0.02 | validation loss: 0.11\n",
      "epoch: 14 | training loss: 0.03 | validation loss: 0.11\n",
      "epoch: 15 | training loss: 0.02 | validation loss: 0.11\n",
      "epoch: 16 | training loss: 0.01 | validation loss: 0.14\n",
      "epoch: 17 | training loss: 0.01 | validation loss: 0.10\n",
      "epoch: 18 | training loss: 0.01 | validation loss: 0.11\n",
      "epoch: 19 | training loss: 0.01 | validation loss: 0.11\n",
      "epoch: 20 | training loss: 0.01 | validation loss: 0.11\n",
      "epoch: 21 | training loss: 0.02 | validation loss: 0.10\n",
      "epoch: 22 | training loss: 0.01 | validation loss: 0.11\n",
      "epoch: 23 | training loss: 0.01 | validation loss: 0.10\n",
      "epoch: 24 | training loss: 0.02 | validation loss: 0.09\n",
      "epoch: 25 | training loss: 0.02 | validation loss: 0.11\n",
      "epoch: 26 | training loss: 0.02 | validation loss: 0.13\n",
      "epoch: 27 | training loss: 0.01 | validation loss: 0.08\n",
      "epoch: 28 | training loss: 0.01 | validation loss: 0.10\n",
      "epoch: 29 | training loss: 0.01 | validation loss: 0.10\n"
     ]
    },
    {
     "data": {
      "image/png": "[encoded data removed]",
      "text/plain": [
       "<Figure size 720x288 with 1 Axes>"
      ]
     },
     "metadata": {
      "needs_background": "light"
     },
     "output_type": "display_data"
    }
   ],
   "source": [
    "bin_linear_wrapper.set_loaders(bin_bow_train_dataloader, bin_bow_test_dataloader)\n",
    "bin_linear_wrapper.train(n_epochs=30)\n",
    "bin_linear_wrapper.plot_losses()"
   ]
  },
  {
   "cell_type": "code",
   "execution_count": 25,
   "id": "374d0f3d",
   "metadata": {
    "scrolled": true
   },
   "outputs": [
    {
     "name": "stdout",
     "output_type": "stream",
     "text": [
      "threshold is 0.6796258091926575 | accuracy is 97.37%\n"
     ]
    },
    {
     "data": {
      "text/plain": [
       "Text(0.5, 0, 'False positive rate')"
      ]
     },
     "execution_count": 25,
     "metadata": {},
     "output_type": "execute_result"
    },
    {
     "data": {
      "image/png": "[encoded data removed]",
      "text/plain": [
       "<Figure size 432x288 with 1 Axes>"
      ]
     },
     "metadata": {
      "needs_background": "light"
     },
     "output_type": "display_data"
    }
   ],
   "source": [
    "test_full = [bin_bow_collate([(x[0], x[1])]) for x in test_dataset]\n",
    "\n",
    "test_prediction_scores, test_y = zip(*[(bin_linear_wrapper.predict(x).item(), y.item()) \\\n",
    "                                       for x, y in list(test_full) if x.shape[0] > 0])\n",
    "\n",
    "fpr, tpr, thresholds = roc_curve(test_y, test_prediction_scores)\n",
    "\n",
    "gmeans = np.sqrt(tpr * (1-fpr))\n",
    "ix = np.argmax(gmeans)\n",
    "threshold = thresholds[ix]\n",
    "test_prediction = np.asarray([ 1 if x > threshold else 0 for x in test_prediction_scores])\n",
    "print(\"threshold is {0} | accuracy is {1:.2f}%\"\n",
    "      .format(threshold, (test_prediction==np.asarray(test_y)).mean() * 100))\n",
    "\n",
    "plt.plot(fpr, tpr, linewidth=2)\n",
    "plt.plot([0, 1], [0, 1], 'k--')\n",
    "plt.ylabel(\"True positive rate (recall)\")\n",
    "plt.xlabel(\"False positive rate\")"
   ]
  },
  {
   "cell_type": "markdown",
   "id": "313b09a5",
   "metadata": {},
   "source": [
    "### Naive Bayes"
   ]
  },
  {
   "cell_type": "code",
   "execution_count": 26,
   "id": "b27a170e",
   "metadata": {},
   "outputs": [],
   "source": [
    "def email_bin_embedding(email):\n",
    "    embedding = np.zeros((1, vocabulary_size))\n",
    "    for word_index in email:\n",
    "        if (word_index.int().item() > 0):\n",
    "            embedding[0, word_index.int().item() - 1] = 1\n",
    "    return embedding"
   ]
  },
  {
   "cell_type": "code",
   "execution_count": 27,
   "id": "4d593fb7",
   "metadata": {
    "scrolled": true
   },
   "outputs": [
    {
     "name": "stdout",
     "output_type": "stream",
     "text": [
      "train set: x (2133, 5000), y (2133,)\n",
      "test set: x (913, 5000), y (913,)\n"
     ]
    }
   ],
   "source": [
    "train_full = np.asarray([np.append(email_bin_embedding(x[0]), x[1].item()) for x in train_dataset])\n",
    "train_X, train_y = train_full[:, :-1], train_full[:, -1]\n",
    "\n",
    "test_full = np.asarray([np.append(email_bin_embedding(x[0]), x[1].item()) for x in test_dataset])\n",
    "test_X, test_y = test_full[:, :-1], test_full[:, -1]\n",
    "\n",
    "print(\"train set: x {}, y {}\\ntest set: x {}, y {}\".format(train_X.shape, train_y.shape, test_X.shape, test_y.shape))"
   ]
  },
  {
   "cell_type": "code",
   "execution_count": 28,
   "id": "bfb2aa1a",
   "metadata": {},
   "outputs": [
    {
     "data": {
      "text/plain": [
       "MultinomialNB()"
      ]
     },
     "execution_count": 28,
     "metadata": {},
     "output_type": "execute_result"
    }
   ],
   "source": [
    "bin_nb_model = MultinomialNB()\n",
    "bin_nb_model.fit(train_X, train_y)"
   ]
  },
  {
   "cell_type": "code",
   "execution_count": 29,
   "id": "92bbe763",
   "metadata": {
    "scrolled": true
   },
   "outputs": [
    {
     "name": "stdout",
     "output_type": "stream",
     "text": [
      "train accuracy: 98.1247069855%\n",
      "test accuracy: 96.2760131435%\n"
     ]
    }
   ],
   "source": [
    "train_prediction = bin_nb_model.predict(train_X)\n",
    "test_prediction = bin_nb_model.predict(test_X)\n",
    "\n",
    "train_accuracy = (train_prediction == train_y).mean() * 100\n",
    "test_accuracy = (test_prediction == test_y).mean() * 100\n",
    "\n",
    "print(\"train accuracy: {0:.10f}%\".format(train_accuracy))\n",
    "print(\"test accuracy: {0:.10f}%\".format(test_accuracy))"
   ]
  },
  {
   "cell_type": "code",
   "execution_count": 30,
   "id": "d5504b9e",
   "metadata": {},
   "outputs": [
    {
     "name": "stdout",
     "output_type": "stream",
     "text": [
      "with threshold = 0.27769913350297154 | test accuracy is 96.50%\n"
     ]
    },
    {
     "data": {
      "text/plain": [
       "Text(0.5, 0, 'False positive rate')"
      ]
     },
     "execution_count": 30,
     "metadata": {},
     "output_type": "execute_result"
    },
    {
     "data": {
      "image/png": "[encoded data removed]",
      "text/plain": [
       "<Figure size 432x288 with 1 Axes>"
      ]
     },
     "metadata": {
      "needs_background": "light"
     },
     "output_type": "display_data"
    }
   ],
   "source": [
    "train_prediction_scores = bin_nb_model.predict_proba(train_X)[:, 1]\n",
    "test_prediction_scores = bin_nb_model.predict_proba(test_X)[:, 1]\n",
    "\n",
    "fpr, tpr, thresholds = roc_curve(test_y, test_prediction_scores)\n",
    "\n",
    "gmeans = np.sqrt(tpr * (1-fpr))\n",
    "ix = np.argmax(gmeans)\n",
    "threshold = thresholds[ix]\n",
    "test_prediction = np.asarray([ 1 if x > threshold else 0 for x in test_prediction_scores])\n",
    "print(\"with threshold = {0} | test accuracy is {1:.2f}%\"\n",
    "      .format(threshold, (test_prediction==np.asarray(test_y)).mean() * 100))\n",
    "\n",
    "plt.plot(fpr, tpr, linewidth=2)\n",
    "plt.plot([0, 1], [0, 1], 'k--')\n",
    "plt.ylabel(\"True positive rate (recall)\")\n",
    "plt.xlabel(\"False positive rate\")"
   ]
  },
  {
   "cell_type": "markdown",
   "id": "f504acdd",
   "metadata": {},
   "source": [
    "### SVM model"
   ]
  },
  {
   "cell_type": "code",
   "execution_count": 31,
   "id": "6f2d22f9",
   "metadata": {
    "scrolled": true
   },
   "outputs": [
    {
     "data": {
      "text/plain": [
       "SVC(C=0.1, kernel='linear', random_state=42)"
      ]
     },
     "execution_count": 31,
     "metadata": {},
     "output_type": "execute_result"
    }
   ],
   "source": [
    "bin_svm_model = SVC(C=0.1, kernel=\"linear\", random_state=seed)\n",
    "bin_svm_model.fit(train_X, train_y)"
   ]
  },
  {
   "cell_type": "code",
   "execution_count": 32,
   "id": "96626c2f",
   "metadata": {
    "scrolled": true
   },
   "outputs": [
    {
     "name": "stdout",
     "output_type": "stream",
     "text": [
      "train accuracy: 99.9062353493%\n",
      "test accuracy: 96.6046002191%\n"
     ]
    }
   ],
   "source": [
    "train_prediction = bin_svm_model.predict(train_X)\n",
    "test_prediction = bin_svm_model.predict(test_X)\n",
    "\n",
    "train_accuracy = (train_prediction == train_y).mean() * 100\n",
    "test_accuracy = (test_prediction == test_y).mean() * 100\n",
    "\n",
    "print(\"train accuracy: {0:.10f}%\".format(train_accuracy))\n",
    "print(\"test accuracy: {0:.10f}%\".format(test_accuracy))"
   ]
  },
  {
   "cell_type": "code",
   "execution_count": 33,
   "id": "50891eb7",
   "metadata": {},
   "outputs": [
    {
     "name": "stdout",
     "output_type": "stream",
     "text": [
      "with threshold = -0.24151935758278875 | test accuracy is 96.50%\n"
     ]
    },
    {
     "data": {
      "text/plain": [
       "Text(0.5, 0, 'False positive rate')"
      ]
     },
     "execution_count": 33,
     "metadata": {},
     "output_type": "execute_result"
    },
    {
     "data": {
      "image/png": "[encoded data removed]",
      "text/plain": [
       "<Figure size 432x288 with 1 Axes>"
      ]
     },
     "metadata": {
      "needs_background": "light"
     },
     "output_type": "display_data"
    }
   ],
   "source": [
    "train_prediction_scores = bin_svm_model.decision_function(train_X)\n",
    "test_prediction_scores = bin_svm_model.decision_function(test_X)\n",
    "\n",
    "fpr, tpr, thresholds = roc_curve(test_y, test_prediction_scores)\n",
    "\n",
    "gmeans = np.sqrt(tpr * (1-fpr))\n",
    "ix = np.argmax(gmeans)\n",
    "threshold = thresholds[ix]\n",
    "test_prediction = np.asarray([ 1 if x > threshold else 0 for x in test_prediction_scores])\n",
    "print(\"with threshold = {0} | test accuracy is {1:.2f}%\"\n",
    "      .format(threshold, (test_prediction==np.asarray(test_y)).mean() * 100))\n",
    "\n",
    "plt.plot(fpr, tpr, linewidth=2)\n",
    "plt.plot([0, 1], [0, 1], 'k--')\n",
    "plt.ylabel(\"True positive rate (recall)\")\n",
    "plt.xlabel(\"False positive rate\")"
   ]
  },
  {
   "cell_type": "markdown",
   "id": "ce0dea5f",
   "metadata": {},
   "source": [
    "## Using bag of word with word counts"
   ]
  },
  {
   "cell_type": "markdown",
   "id": "b3e11aa1",
   "metadata": {},
   "source": [
    "### Deep linear model"
   ]
  },
  {
   "cell_type": "code",
   "execution_count": 34,
   "id": "c778d1bb",
   "metadata": {},
   "outputs": [],
   "source": [
    "bow_train_dataloader = DataLoader(train_dataset, batch_size=16, shuffle=True, collate_fn=bow_collate)\n",
    "bow_test_dataloader = DataLoader(test_dataset, batch_size=16, shuffle=True, collate_fn=bow_collate)\n",
    "\n",
    "linear_model = LinearModel(n_features=vocabulary_size, n_outputs=1)\n",
    "optimizer = Adam(linear_model.parameters())\n",
    "loss_fn = nn.BCEWithLogitsLoss(reduction='mean')\n",
    "\n",
    "linear_wrapper = Wrapper(linear_model, loss_fn, optimizer)"
   ]
  },
  {
   "cell_type": "code",
   "execution_count": 35,
   "id": "0eeee164",
   "metadata": {
    "scrolled": false
   },
   "outputs": [
    {
     "name": "stdout",
     "output_type": "stream",
     "text": [
      "epoch: 0 | training loss: 0.28 | validation loss: 0.25\n",
      "epoch: 1 | training loss: 0.14 | validation loss: 0.13\n",
      "epoch: 2 | training loss: 0.08 | validation loss: 0.19\n",
      "epoch: 3 | training loss: 0.07 | validation loss: 0.14\n",
      "epoch: 4 | training loss: 0.06 | validation loss: 0.10\n",
      "epoch: 5 | training loss: 0.06 | validation loss: 0.15\n",
      "epoch: 6 | training loss: 0.08 | validation loss: 0.11\n",
      "epoch: 7 | training loss: 0.08 | validation loss: 0.13\n",
      "epoch: 8 | training loss: 0.07 | validation loss: 0.10\n",
      "epoch: 9 | training loss: 0.05 | validation loss: 0.14\n",
      "epoch: 10 | training loss: 0.05 | validation loss: 0.19\n",
      "epoch: 11 | training loss: 0.05 | validation loss: 0.09\n",
      "epoch: 12 | training loss: 0.05 | validation loss: 0.09\n",
      "epoch: 13 | training loss: 0.04 | validation loss: 0.14\n",
      "epoch: 14 | training loss: 0.04 | validation loss: 0.12\n",
      "epoch: 15 | training loss: 0.04 | validation loss: 0.12\n",
      "epoch: 16 | training loss: 0.03 | validation loss: 0.09\n",
      "epoch: 17 | training loss: 0.03 | validation loss: 0.11\n",
      "epoch: 18 | training loss: 0.03 | validation loss: 0.12\n",
      "epoch: 19 | training loss: 0.03 | validation loss: 0.10\n",
      "epoch: 20 | training loss: 0.02 | validation loss: 0.16\n",
      "epoch: 21 | training loss: 0.02 | validation loss: 0.10\n",
      "epoch: 22 | training loss: 0.02 | validation loss: 0.16\n",
      "epoch: 23 | training loss: 0.02 | validation loss: 0.13\n",
      "epoch: 24 | training loss: 0.05 | validation loss: 0.15\n",
      "epoch: 25 | training loss: 0.03 | validation loss: 0.11\n",
      "epoch: 26 | training loss: 0.02 | validation loss: 0.11\n",
      "epoch: 27 | training loss: 0.03 | validation loss: 0.13\n",
      "epoch: 28 | training loss: 0.02 | validation loss: 0.12\n",
      "epoch: 29 | training loss: 0.02 | validation loss: 0.11\n"
     ]
    },
    {
     "data": {
      "image/png": "[encoded data removed]",
      "text/plain": [
       "<Figure size 720x288 with 1 Axes>"
      ]
     },
     "metadata": {
      "needs_background": "light"
     },
     "output_type": "display_data"
    }
   ],
   "source": [
    "linear_wrapper.set_loaders(bow_train_dataloader, bow_test_dataloader)\n",
    "linear_wrapper.train(n_epochs=30)\n",
    "linear_wrapper.plot_losses()"
   ]
  },
  {
   "cell_type": "code",
   "execution_count": 36,
   "id": "f0653b7c",
   "metadata": {
    "scrolled": true
   },
   "outputs": [
    {
     "name": "stdout",
     "output_type": "stream",
     "text": [
      "threshold is 0.41521093249320984 | accuracy is 96.50%\n"
     ]
    },
    {
     "data": {
      "text/plain": [
       "Text(0.5, 0, 'False positive rate')"
      ]
     },
     "execution_count": 36,
     "metadata": {},
     "output_type": "execute_result"
    },
    {
     "data": {
      "image/png": "[encoded data removed]",
      "text/plain": [
       "<Figure size 432x288 with 1 Axes>"
      ]
     },
     "metadata": {
      "needs_background": "light"
     },
     "output_type": "display_data"
    }
   ],
   "source": [
    "test_full = [bin_bow_collate([(x[0], x[1])]) for x in test_dataset]\n",
    "\n",
    "test_prediction_scores, test_y = zip(*[(linear_wrapper.predict(x).item(), y.item()) \\\n",
    "                                       for x, y in list(test_full) if x.shape[0] > 0])\n",
    "\n",
    "fpr, tpr, thresholds = roc_curve(test_y, test_prediction_scores)\n",
    "\n",
    "gmeans = np.sqrt(tpr * (1-fpr))\n",
    "ix = np.argmax(gmeans)\n",
    "threshold = thresholds[ix]\n",
    "test_prediction = np.asarray([ 1 if x > threshold else 0 for x in test_prediction_scores])\n",
    "print(\"threshold is {0} | accuracy is {1:.2f}%\"\n",
    "      .format(threshold, (test_prediction==np.asarray(test_y)).mean() * 100))\n",
    "\n",
    "plt.plot(fpr, tpr, linewidth=2)\n",
    "plt.plot([0, 1], [0, 1], 'k--')\n",
    "plt.ylabel(\"True positive rate (recall)\")\n",
    "plt.xlabel(\"False positive rate\")"
   ]
  },
  {
   "cell_type": "markdown",
   "id": "93e9c29f",
   "metadata": {},
   "source": [
    "### Naive Bayes"
   ]
  },
  {
   "cell_type": "code",
   "execution_count": 37,
   "id": "fbb46ed9",
   "metadata": {},
   "outputs": [],
   "source": [
    "def email_embedding(email):\n",
    "    embedding = np.zeros((1, vocabulary_size))\n",
    "    for word_index in email:\n",
    "        if (word_index.int().item() > 0):\n",
    "            embedding[0, word_index.int().item() - 1] += 1\n",
    "    return embedding"
   ]
  },
  {
   "cell_type": "code",
   "execution_count": 38,
   "id": "e79a719d",
   "metadata": {
    "scrolled": true
   },
   "outputs": [
    {
     "name": "stdout",
     "output_type": "stream",
     "text": [
      "train set: x (2133, 5000), y (2133,)\n",
      "test set: x (913, 5000), y (913,)\n"
     ]
    }
   ],
   "source": [
    "train_full = np.asarray([np.append(email_embedding(x[0]), x[1].item()) for x in train_dataset])\n",
    "train_X, train_y = train_full[:, :-1], train_full[:, -1]\n",
    "\n",
    "test_full = np.asarray([np.append(email_embedding(x[0]), x[1].item()) for x in test_dataset])\n",
    "test_X, test_y = test_full[:, :-1], test_full[:, -1]\n",
    "\n",
    "print(\"train set: x {}, y {}\\ntest set: x {}, y {}\".format(train_X.shape, train_y.shape, test_X.shape, test_y.shape))"
   ]
  },
  {
   "cell_type": "code",
   "execution_count": 39,
   "id": "16e64dd5",
   "metadata": {},
   "outputs": [
    {
     "data": {
      "text/plain": [
       "MultinomialNB()"
      ]
     },
     "execution_count": 39,
     "metadata": {},
     "output_type": "execute_result"
    }
   ],
   "source": [
    "nb_model = MultinomialNB()\n",
    "nb_model.fit(train_X, train_y)"
   ]
  },
  {
   "cell_type": "code",
   "execution_count": 40,
   "id": "32735dda",
   "metadata": {
    "scrolled": true
   },
   "outputs": [
    {
     "name": "stdout",
     "output_type": "stream",
     "text": [
      "train accuracy: 98.1247069855%\n",
      "test accuracy: 96.3855421687%\n"
     ]
    }
   ],
   "source": [
    "train_prediction = nb_model.predict(train_X)\n",
    "test_prediction = nb_model.predict(test_X)\n",
    "\n",
    "train_accuracy = (train_prediction == train_y).mean() * 100\n",
    "test_accuracy = (test_prediction == test_y).mean() * 100\n",
    "\n",
    "print(\"train accuracy: {0:.10f}%\".format(train_accuracy))\n",
    "print(\"test accuracy: {0:.10f}%\".format(test_accuracy))"
   ]
  },
  {
   "cell_type": "code",
   "execution_count": 41,
   "id": "7c9b0c59",
   "metadata": {},
   "outputs": [
    {
     "name": "stdout",
     "output_type": "stream",
     "text": [
      "with threshold = 0.39088620121328443 | test accuracy is 96.82%\n"
     ]
    },
    {
     "data": {
      "text/plain": [
       "Text(0.5, 0, 'False positive rate')"
      ]
     },
     "execution_count": 41,
     "metadata": {},
     "output_type": "execute_result"
    },
    {
     "data": {
      "image/png": "[encoded data removed]",
      "text/plain": [
       "<Figure size 432x288 with 1 Axes>"
      ]
     },
     "metadata": {
      "needs_background": "light"
     },
     "output_type": "display_data"
    }
   ],
   "source": [
    "train_prediction_scores = nb_model.predict_proba(train_X)[:, 1]\n",
    "test_prediction_scores = nb_model.predict_proba(test_X)[:, 1]\n",
    "\n",
    "fpr, tpr, thresholds = roc_curve(test_y, test_prediction_scores)\n",
    "\n",
    "gmeans = np.sqrt(tpr * (1-fpr))\n",
    "ix = np.argmax(gmeans)\n",
    "threshold = thresholds[ix]\n",
    "test_prediction = np.asarray([ 1 if x > threshold else 0 for x in test_prediction_scores])\n",
    "print(\"with threshold = {0} | test accuracy is {1:.2f}%\"\n",
    "      .format(threshold, (test_prediction==np.asarray(test_y)).mean() * 100))\n",
    "\n",
    "plt.plot(fpr, tpr, linewidth=2)\n",
    "plt.plot([0, 1], [0, 1], 'k--')\n",
    "plt.ylabel(\"True positive rate (recall)\")\n",
    "plt.xlabel(\"False positive rate\")"
   ]
  },
  {
   "cell_type": "markdown",
   "id": "c94e2b8c",
   "metadata": {},
   "source": [
    "### SVM model"
   ]
  },
  {
   "cell_type": "code",
   "execution_count": 42,
   "id": "af5dce3e",
   "metadata": {
    "scrolled": true
   },
   "outputs": [
    {
     "data": {
      "text/plain": [
       "SVC(C=0.1, kernel='linear', random_state=42)"
      ]
     },
     "execution_count": 42,
     "metadata": {},
     "output_type": "execute_result"
    }
   ],
   "source": [
    "svm_model = SVC(C=0.1, kernel=\"linear\", random_state=seed)\n",
    "svm_model.fit(train_X, train_y)"
   ]
  },
  {
   "cell_type": "code",
   "execution_count": 43,
   "id": "b491317b",
   "metadata": {
    "scrolled": true
   },
   "outputs": [
    {
     "name": "stdout",
     "output_type": "stream",
     "text": [
      "train accuracy: 99.8593530239%\n",
      "test accuracy: 95.9474260679%\n"
     ]
    }
   ],
   "source": [
    "train_prediction = svm_model.predict(train_X)\n",
    "test_prediction = svm_model.predict(test_X)\n",
    "\n",
    "train_accuracy = (train_prediction == train_y).mean() * 100\n",
    "test_accuracy = (test_prediction == test_y).mean() * 100\n",
    "\n",
    "print(\"train accuracy: {0:.10f}%\".format(train_accuracy))\n",
    "print(\"test accuracy: {0:.10f}%\".format(test_accuracy))"
   ]
  },
  {
   "cell_type": "code",
   "execution_count": 44,
   "id": "0456b2fc",
   "metadata": {},
   "outputs": [
    {
     "name": "stdout",
     "output_type": "stream",
     "text": [
      "with threshold = 0.1518686877576932 | test accuracy is 96.28%\n"
     ]
    },
    {
     "data": {
      "text/plain": [
       "Text(0.5, 0, 'False positive rate')"
      ]
     },
     "execution_count": 44,
     "metadata": {},
     "output_type": "execute_result"
    },
    {
     "data": {
      "image/png": "[encoded data removed]",
      "text/plain": [
       "<Figure size 432x288 with 1 Axes>"
      ]
     },
     "metadata": {
      "needs_background": "light"
     },
     "output_type": "display_data"
    }
   ],
   "source": [
    "train_prediction_scores = svm_model.decision_function(train_X)\n",
    "test_prediction_scores = svm_model.decision_function(test_X)\n",
    "\n",
    "fpr, tpr, thresholds = roc_curve(test_y, test_prediction_scores)\n",
    "\n",
    "gmeans = np.sqrt(tpr * (1-fpr))\n",
    "ix = np.argmax(gmeans)\n",
    "threshold = thresholds[ix]\n",
    "test_prediction = np.asarray([ 1 if x > threshold else 0 for x in test_prediction_scores])\n",
    "print(\"with threshold = {0} | test accuracy is {1:.2f}%\"\n",
    "      .format(threshold, (test_prediction==np.asarray(test_y)).mean() * 100))\n",
    "\n",
    "plt.plot(fpr, tpr, linewidth=2)\n",
    "plt.plot([0, 1], [0, 1], 'k--')\n",
    "plt.ylabel(\"True positive rate (recall)\")\n",
    "plt.xlabel(\"False positive rate\")"
   ]
  }
 ],
 "metadata": {
  "kernelspec": {
   "display_name": "Python 3 (ipykernel)",
   "language": "python",
   "name": "python3"
  },
  "language_info": {
   "codemirror_mode": {
    "name": "ipython",
    "version": 3
   },
   "file_extension": ".py",
   "mimetype": "text/x-python",
   "name": "python",
   "nbconvert_exporter": "python",
   "pygments_lexer": "ipython3",
   "version": "3.8.12"
  }
 },
 "nbformat": 4,
 "nbformat_minor": 5
}
